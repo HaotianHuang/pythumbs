{
 "cells": [
  {
   "cell_type": "code",
   "execution_count": null,
   "id": "b4be6b1d",
   "metadata": {},
   "outputs": [],
   "source": [
    "# # Loading image data for CNN\n",
    "# batch_size = 4    # Number of images being processed before each model update\n",
    "\n",
    "# # Selecting and downloading the CIFAR10 dataset for training\n",
    "# trainset = torchvision.datasets.CIFAR10(root='./data', train = True, download = True, transform = transform)\n",
    "# # Loading in training images. Batch size = number of images being processed each time model updates. \n",
    "# trainloader = torch.utils.data.DataLoader(trainset, batch_size = batch_size, shuffle = True, num_workers = 2)\n",
    "\n",
    "# # Loading in testing images. \n",
    "# testset = torchvision.datasets.CIFAR10(root = './data', train = False, download = True, transform =transform)\n",
    "# testloader = torch.utils.data.DataLoader(testset, batch_size=batch_size,\n",
    "#                                          shuffle=False, num_workers=2)\n",
    "# # Possible classifications:\n",
    "# classes = ('plane', 'car', 'bird', 'cat',\n",
    "#            'deer', 'dog', 'frog', 'horse', 'ship', 'truck')\n"
   ]
  },
  {
   "cell_type": "markdown",
   "id": "47fe3b03",
   "metadata": {},
   "source": [
    "**Preparing dataset**"
   ]
  },
  {
   "cell_type": "code",
   "execution_count": 26,
   "id": "6b61dd52",
   "metadata": {},
   "outputs": [],
   "source": [
    "import os\n",
    "import pandas as pd\n",
    "import torch\n",
    "from torch.utils.data import Dataset\n",
    "from skimage import io"
   ]
  },
  {
   "cell_type": "code",
   "execution_count": 13,
   "id": "a317cd98",
   "metadata": {},
   "outputs": [],
   "source": [
    "import os  \n",
    "# path = \"C:/Users/Haotian/Desktop/pythumbs\"\n",
    "path = \"/Users/haotianhuang/Desktop/pythumbs\"\n",
    "\n",
    "os.chdir(path)"
   ]
  },
  {
   "cell_type": "code",
   "execution_count": 17,
   "id": "ff66f3e6",
   "metadata": {},
   "outputs": [],
   "source": [
    "for i in range(0, 3000):\n",
    "    os.rename('img' + str(i) + '.png','thumbsdown' + str(i) + '.png') "
   ]
  },
  {
   "cell_type": "code",
   "execution_count": 47,
   "id": "cfef832f",
   "metadata": {},
   "outputs": [],
   "source": [
    "import csv\n",
    "\n",
    "with open('thumbsdata.csv', 'w',newline='') as f:\n",
    "    thewriter = csv.writer(f)\n",
    "    \n",
    "    thewriter.writerow(['file', 'value'])\n",
    "    \n",
    "    for i in range(0, 3000):\n",
    "        thewriter.writerow(['thumbsup' + str(i) + '.png', '0'])\n",
    "    \n",
    "    for i in range(0, 3000):\n",
    "        thewriter.writerow(['thumbsdown' + str(i) + '.png', '1'])\n",
    "    "
   ]
  },
  {
   "cell_type": "markdown",
   "id": "d83ba921",
   "metadata": {},
   "source": [
    "**TRAINING BELOW**"
   ]
  },
  {
   "cell_type": "code",
   "execution_count": 1,
   "id": "17cd15d3",
   "metadata": {},
   "outputs": [
    {
     "name": "stderr",
     "output_type": "stream",
     "text": [
      "/Users/haotianhuang/miniforge3/lib/python3.9/site-packages/tqdm/auto.py:22: TqdmWarning: IProgress not found. Please update jupyter and ipywidgets. See https://ipywidgets.readthedocs.io/en/stable/user_install.html\n",
      "  from .autonotebook import tqdm as notebook_tqdm\n"
     ]
    }
   ],
   "source": [
    "import torch\n",
    "import torchvision\n",
    "import matplotlib.pyplot as plt\n",
    "from torchvision import datasets, transforms\n",
    "from torch.utils.data import Dataset\n",
    "import os\n",
    "import pandas as pd\n",
    "from skimage import io"
   ]
  },
  {
   "cell_type": "code",
   "execution_count": 2,
   "id": "902f747a",
   "metadata": {},
   "outputs": [],
   "source": [
    "# Transforming input data\n",
    "transform = transforms.Compose([   # Chaining multiple image transformations together\n",
    "    transforms.ToTensor(),           # Converts images into tensor form. \n",
    "#     transforms.Grayscale(num_output_channels=3), # BROKEN important line. we are going to convert it to 3 channel rgb & train our model as such, this means our inference model can run rgb values as well\n",
    "    transforms.Normalize((0.5),(0.5)) # Sets mean and std to 0.5 for each colour channel. # Maps pixel values to -1,1 by (x-mean)/std || don't know how this works \n",
    "])"
   ]
  },
  {
   "cell_type": "code",
   "execution_count": 28,
   "id": "69a3ab8d",
   "metadata": {},
   "outputs": [],
   "source": [
    "class ThumbsDataset(Dataset):\n",
    "    def __init__(self, csv_file, root_dir, transform=None):\n",
    "        self.annotations = pd.read_csv(csv_file)\n",
    "        self.root_dir = root_dir\n",
    "        self.transform = transform\n",
    "    \n",
    "    def __len__(self):\n",
    "        return len(self.annotations) #6000\n",
    "    \n",
    "    def __getitem__(self, index):\n",
    "        img_path = os.path.join(self.root_dir, self.annotations.iloc[index, 0])\n",
    "        image = io.imread(img_path)\n",
    "        y_label = torch.tensor(int(self.annotations.iloc[index, 1]))\n",
    "        \n",
    "        if self.transform:\n",
    "            image = self.transform(image)\n",
    "            \n",
    "        return (image, y_label)   "
   ]
  },
  {
   "cell_type": "code",
   "execution_count": 4,
   "id": "2288079f",
   "metadata": {},
   "outputs": [
    {
     "name": "stdout",
     "output_type": "stream",
     "text": [
      "/Users/haotianhuang/Desktop/pythumbs\n"
     ]
    }
   ],
   "source": [
    "  # path = \"C:/Users/Haotian/Desktop/pythumbs\"\n",
    "path = \"/Users/haotianhuang/Desktop/pythumbs\"\n",
    "\n",
    "os.chdir(path)\n",
    "print(os.getcwd())"
   ]
  },
  {
   "cell_type": "code",
   "execution_count": 29,
   "id": "ee95418b",
   "metadata": {},
   "outputs": [],
   "source": [
    "from torch.utils.data import DataLoader\n",
    "\n",
    "batch_size = 4\n",
    "\n",
    "dataset = ThumbsDataset(csv_file = 'thumbsdata.csv', root_dir = 'data',\n",
    "                       transform = transform)\n",
    "\n",
    "train_set, test_set = torch.utils.data.random_split(dataset, [5000, 1000])\n",
    "train_loader = DataLoader(dataset=train_set, batch_size=batch_size, shuffle=True)\n",
    "test_loader = DataLoader(dataset=test_set, batch_size=batch_size, shuffle=True)\n",
    "\n",
    "classes = ('thumbsup', 'thumbsdown')"
   ]
  },
  {
   "cell_type": "code",
   "execution_count": 30,
   "id": "e85a6b2b",
   "metadata": {},
   "outputs": [
    {
     "name": "stdout",
     "output_type": "stream",
     "text": [
      "(tensor([[[ 0.9608,  0.9686,  0.9843, -0.0667, -0.1451,  0.8196, -0.1216,\n",
      "           0.8745,  0.0431, -0.5765, -0.3804,  0.2784,  0.4980,  0.3882,\n",
      "           0.9843,  0.9843,  0.9843,  0.9843,  0.9843,  0.9843,  0.9922,\n",
      "           0.9216,  0.9843,  0.8667,  0.8118,  0.4275,  0.1137, -0.1137],\n",
      "         [ 0.6314,  0.9843,  0.9216, -0.0510, -0.0431,  0.9686, -0.1451,\n",
      "           0.8588,  0.3176, -0.5686, -0.2000, -0.2784,  0.1608,  0.0118,\n",
      "           0.9451,  0.9843,  0.9843,  0.9843,  0.9843,  0.9843,  0.9294,\n",
      "           0.9843,  0.9608,  0.8431,  0.7333,  0.3647, -0.3098, -0.1922],\n",
      "         [-0.0667,  0.3255,  0.0039, -0.0196,  0.0039,  0.7255,  0.8118,\n",
      "           0.1922, -0.2627,  0.1765, -0.3961,  0.0353, -0.0275, -0.0824,\n",
      "           0.7412,  0.9216,  0.9765,  0.9843,  0.9843,  0.9843,  0.9686,\n",
      "           0.9765,  0.8824,  0.7647,  0.7098,  0.3020, -0.4902, -0.2392],\n",
      "         [-0.0431, -0.0196,  0.0510,  0.0196, -0.0039, -0.2941,  0.9686,\n",
      "           0.9765, -0.0431, -0.2000, -0.1373, -0.1216, -0.0118, -0.1137,\n",
      "           0.3961,  0.3647,  0.9843,  0.9843,  0.9843,  0.9686,  0.9451,\n",
      "           0.8745,  0.8118,  0.7020,  0.6471,  0.2235, -0.5529, -0.3490],\n",
      "         [-0.0667,  0.0275,  0.0510,  0.0588,  0.5137, -0.1373,  0.8039,\n",
      "           0.8980,  0.8275,  0.0118, -0.1216,  0.2784,  0.0039, -0.0824,\n",
      "           0.0510,  0.0980,  0.9843,  0.9843,  0.9294,  0.8745,  0.8667,\n",
      "           0.8588,  0.7255,  0.6314,  0.4902,  0.0902, -0.5765, -0.5765],\n",
      "         [-0.0667,  0.0196,  0.0588,  0.0667,  0.8510, -0.0980,  0.4980,\n",
      "           0.9137,  0.8431,  0.0039, -0.1216, -0.0902, -0.1216, -0.1529,\n",
      "          -0.1686,  0.5765,  0.8980,  0.8667,  0.7882,  0.8353,  0.8588,\n",
      "           0.8745,  0.7098,  0.6314,  0.4275, -0.5608, -0.7098, -0.7020],\n",
      "         [-0.0667, -0.0039,  0.0824,  0.0902,  0.7647, -0.0353, -0.3020,\n",
      "           0.8353,  0.7333, -0.0118, -0.1216, -0.0902, -0.1686, -0.2235,\n",
      "          -0.3098,  0.4824,  0.5765,  0.4667,  0.5451,  0.7804,  0.8588,\n",
      "           0.6627,  0.6863,  0.5686,  0.3490, -0.7412, -0.7882, -0.7098],\n",
      "         [-0.0745, -0.0039,  0.0902,  0.0510,  0.7804, -0.0118, -0.1373,\n",
      "           0.7725,  0.6471,  0.0039, -0.1137, -0.1137, -0.1451, -0.2000,\n",
      "          -0.3333,  0.0353,  0.0431,  0.1529,  0.4824,  0.8275,  0.8667,\n",
      "           0.6706,  0.5686,  0.4431,  0.4745, -0.8196, -0.8510, -0.6863],\n",
      "         [-0.1059, -0.0118,  0.0745,  0.4588,  0.4824,  0.0196,  0.2392,\n",
      "           0.3333,  0.5529,  0.3020,  0.5922, -0.0588, -0.1373, -0.2549,\n",
      "          -0.2235, -0.1608, -0.1137,  0.0039,  0.6471,  0.9137,  0.7490,\n",
      "           0.6549,  0.3333,  0.2784,  0.4275, -0.8510, -0.7412, -0.6863],\n",
      "         [-0.0824, -0.0118,  0.0902,  0.7569, -0.0980,  0.1137,  0.8824,\n",
      "           0.2784,  0.6471,  0.4588,  0.6941, -0.0588, -0.1294, -0.1216,\n",
      "          -0.2706, -0.2549, -0.1451, -0.1451,  0.6863,  0.7882,  0.4902,\n",
      "           0.4196,  0.1608,  0.0980,  0.4353, -0.8039, -0.7490, -0.7725],\n",
      "         [-0.0745, -0.0039,  0.1686,  0.7098, -0.0118,  0.7176,  0.9137,\n",
      "           0.2941,  0.4980,  0.6000,  0.7725, -0.0431, -0.6549,  0.1294,\n",
      "          -0.3176, -0.3176, -0.3961, -0.1294,  0.3176,  0.4745,  0.2471,\n",
      "           0.0745, -0.0039,  0.0745,  0.6549, -0.6941, -0.7176, -0.6863],\n",
      "         [ 0.4039,  0.1294,  0.6784,  0.7176, -0.0196,  0.6863,  0.9059,\n",
      "           0.3804,  0.6863,  0.6706,  0.3333,  0.0118, -0.6000, -0.0196,\n",
      "          -0.3490, -0.4196, -0.3176, -0.2235, -0.0353, -0.0667, -0.0980,\n",
      "          -0.1294, -0.0431,  0.1137,  0.9529, -0.7490, -0.7255, -0.7176],\n",
      "         [ 0.7412,  0.7490,  0.7098,  0.4275,  0.0039,  0.7098,  0.9843,\n",
      "           0.5216,  0.8275,  0.7176,  0.4118,  0.0980, -0.0275,  0.0431,\n",
      "           0.0980, -0.2784, -0.2863, -0.2471, -0.1765, -0.0431, -0.2314,\n",
      "          -0.4353,  0.0275,  0.1294, -0.5373, -0.7882, -0.7647, -0.7490],\n",
      "         [ 0.6706,  0.6863,  0.7020, -0.0824,  0.0510,  0.4588,  0.9843,\n",
      "           0.9843,  1.0000,  0.9216,  0.8196,  0.6941,  0.6549,  0.6784,\n",
      "          -0.2157, -0.3255, -0.3098, -0.2235,  0.9529,  0.9843, -0.1608,\n",
      "          -0.0196,  0.0902,  0.9765, -0.5765, -0.7804, -0.8431, -0.8196],\n",
      "         [ 0.6471,  0.6471,  0.6549, -0.0824,  0.0039,  0.1059,  0.9922,\n",
      "           0.9843,  0.9686,  0.9373,  0.8353,  0.7412,  0.7098,  0.7020,\n",
      "           0.7804, -0.2706, -0.2078,  0.9843,  0.9843,  0.9843, -0.1294,\n",
      "           0.1451,  0.2078,  0.9843, -0.6784, -0.7647, -0.7647, -0.7333],\n",
      "         [ 0.6627,  0.6627,  0.0353, -0.1059,  0.2392,  0.0118,  0.5529,\n",
      "           0.4902,  0.3961, -0.2078, -0.0431,  0.1373,  0.1137,  0.1451,\n",
      "           0.2314,  0.4118,  0.4588,  0.5686,  0.7725,  0.9843, -0.1137,\n",
      "           0.1765,  0.2706,  0.9765, -0.7412, -0.7804, -0.8275, -0.7412],\n",
      "         [ 0.0588, -0.0196, -0.0824, -0.1137,  0.5373, -0.0275,  0.1529,\n",
      "           0.5843,  0.3647, -0.4902, -0.3725,  0.5137,  0.6392,  0.6549,\n",
      "           0.6392, -0.3255, -0.2314,  0.2784,  0.9765, -0.2235, -0.2471,\n",
      "           0.4510,  0.5059, -0.3255, -0.8353, -0.8196, -0.8510, -0.7490],\n",
      "         [-0.1373, -0.1373, -0.0980, -0.0588,  0.5294, -0.0510, -0.7176,\n",
      "           0.3098,  0.6784, -0.5216, -0.6627, -0.1843, -0.3333, -0.3333,\n",
      "          -0.2706, -0.3098, -0.1451,  0.1765, -0.3333, -0.3725, -0.2392,\n",
      "           0.2941,  0.6078, -0.7412, -0.8510, -0.8902, -0.8588, -0.8353],\n",
      "         [-0.1922, -0.1373, -0.0824, -0.0588,  0.3098, -0.0118, -0.7412,\n",
      "           0.1922,  0.8745,  0.8196, -0.8353, -0.3804, -0.2078, -0.1765,\n",
      "          -0.2392, -0.1294, -0.0902,  0.1373, -0.4353,  0.2471, -0.4353,\n",
      "           0.4824,  0.1059, -0.8667, -0.8902, -0.7647, -0.7647, -0.8745],\n",
      "         [-0.2235, -0.1529, -0.0745,  0.3020, -0.1451,  0.3725, -0.6392,\n",
      "          -0.5451, -0.4510,  0.7176,  0.5294,  0.5922, -0.3176, -0.2863,\n",
      "          -0.1294, -0.3569, -0.3647, -0.3882, -0.3961,  0.3176, -0.3882,\n",
      "           0.3333,  0.7412, -0.8980, -0.9137, -0.8275, -0.7412, -0.6941],\n",
      "         [-0.2000, -0.1451, -0.0980,  0.4980, -0.1294,  0.0431,  0.0275,\n",
      "          -0.1294, -0.8667, -0.6549, -0.3255, -0.7961, -0.6392, -0.4588,\n",
      "          -0.3725, -0.7098, -0.5373, -0.4902,  0.0431,  0.1451,  0.0353,\n",
      "          -0.3490,  0.6706, -0.8902, -0.9294, -0.8510, -0.7804, -0.7098],\n",
      "         [-0.1686, -0.1216, -0.1451,  0.4588, -0.1451, -0.3725,  0.2627,\n",
      "           0.2784, -0.1765,  0.0980,  0.0196, -0.1686, -0.3333, -0.5451,\n",
      "          -0.5529, -0.3490, -0.4745, -0.5451,  0.1137, -0.0745, -0.0745,\n",
      "          -0.0824, -0.5294, -0.8588, -0.9451, -0.8667, -0.8118, -0.7490],\n",
      "         [-0.1765, -0.1216,  0.2706,  0.1529, -0.1373, -0.6863,  0.3882,\n",
      "           0.4039,  0.2784,  0.2627,  0.2471,  0.1765,  0.1373,  0.0980,\n",
      "           0.1137,  0.1529,  0.1529,  0.2000,  0.0745, -0.1843, -0.2157,\n",
      "          -0.2471, -0.9137, -0.9373, -0.9137, -0.8980, -0.8510, -0.7176],\n",
      "         [-0.1529, -0.1216,  0.3255, -0.2000, -0.0745, -0.6471,  0.1059,\n",
      "           0.5216,  0.4588,  0.4353,  0.4039,  0.3412,  0.3333,  0.3333,\n",
      "           0.3176,  0.3098,  0.3412,  0.2627, -0.0745, -0.2235, -0.2549,\n",
      "          -0.6941, -0.9137, -0.9686, -0.9294, -0.9137, -0.8588, -0.7882],\n",
      "         [-0.1686,  0.3412,  0.3098, -0.2078,  0.1529,  0.0196,  0.3961,\n",
      "           0.0431, -0.7333, -0.6314, -0.4745,  0.5451,  0.7176,  0.4902,\n",
      "           0.5216,  0.4196,  0.3804,  0.2941, -0.1216, -0.1686, -0.3490,\n",
      "          -0.7569, -0.9373, -0.9216, -0.9137, -0.9137, -0.7098, -0.8353],\n",
      "         [ 0.3882,  0.2941,  0.0824, -0.2078,  0.1529,  0.4824, -0.3255,\n",
      "          -0.5451, -0.5137, -0.4196, -0.1451, -0.2471, -0.3020, -0.0980,\n",
      "           0.0275,  0.9216,  0.0824,  0.0980, -0.3490, -0.4588, -0.3176,\n",
      "          -0.8588, -0.9529, -0.9373, -0.9137, -0.8980, -0.7725, -0.6706],\n",
      "         [ 0.3255,  0.2784, -0.3020, -0.2157, -0.1451, -0.3098, -0.3098,\n",
      "          -0.2784, -0.3098, -0.1765, -0.1529, -0.0980, -0.1137, -0.1529,\n",
      "          -0.0902, -0.0745,  0.3333,  0.1922, -0.3490, -0.5608, -0.5529,\n",
      "          -0.8588, -0.9059, -0.9137, -0.9059, -0.8824, -0.7725, -0.6941],\n",
      "         [ 0.2627,  0.3098, -0.6863, -0.5451, -0.3490, -0.3804, -0.5373,\n",
      "          -0.6314, -0.2706, -0.4510, -0.1294, -0.1373, -0.0431, -0.1216,\n",
      "          -0.2000, -0.0275,  0.1843,  0.0196, -0.3725, -0.4510, -0.8667,\n",
      "          -0.8745, -0.9137, -0.9059, -0.9216, -0.8588, -0.8118, -0.6863]]]), tensor(1))\n"
     ]
    }
   ],
   "source": [
    "# print(train_set[0])\n",
    "print(train_set[0])"
   ]
  },
  {
   "cell_type": "code",
   "execution_count": 10,
   "id": "d0ed3573",
   "metadata": {},
   "outputs": [
    {
     "data": {
      "image/png": "[encoded data removed]",
      "text/plain": [
       "<Figure size 432x288 with 1 Axes>"
      ]
     },
     "metadata": {
      "needs_background": "light"
     },
     "output_type": "display_data"
    },
    {
     "name": "stdout",
     "output_type": "stream",
     "text": [
      "thumbsdown thumbsup thumbsup thumbsdown\n"
     ]
    }
   ],
   "source": [
    "import matplotlib.pyplot as plt\n",
    "import numpy as np\n",
    "from PIL import Image\n",
    "\n",
    "def imshow(img):\n",
    "  img = img/2 + 0.5     # Unnormalising image data\n",
    "  npimg = img.numpy()\n",
    "  plt.imshow(np.transpose(npimg,(1,2,0))) #the order of dimension is channel*width*height but in matplotlib it’s width*height*channel. That’s why the transpose is needed\n",
    "  plt.show()\n",
    "\n",
    "# Getting random training images\n",
    "dataiter = iter(test_loader)      # Iterator of testloader\n",
    "images, labels = dataiter.next() # Gets 4 which is batch # somehow?? maybe a default setting \n",
    "# print(len(images))\n",
    "# print(len(test_loader))\n",
    "\n",
    "# Show images\n",
    "imshow(torchvision.utils.make_grid(images))\n",
    "print(' '.join(f'{classes[labels[j]]:5s}' for j in range(batch_size)))   # printing labels"
   ]
  },
  {
   "cell_type": "code",
   "execution_count": 11,
   "id": "cc84bbf2",
   "metadata": {},
   "outputs": [],
   "source": [
    "import torch.nn as nn\n",
    "import torch.nn.functional as F\n",
    "\n",
    "class Net(nn.Module):\n",
    "  def __init__(self):\n",
    "    super().__init__()\n",
    "    # Adding layers (Convolutional, Pooling, and Fully connected)\n",
    "    self.conv1 = nn.Conv2d(in_channels = 1, out_channels = 6, kernel_size = 5)\n",
    "    self.pool = nn.MaxPool2d(kernel_size = 2, stride = 2)\n",
    "    self.conv2 = nn.Conv2d(in_channels = 6, out_channels = 16, kernel_size = 5)\n",
    "    self.fc1 = nn.Linear(in_features = 16*16, out_features = 120)\n",
    "    self.fc2 = nn.Linear(in_features = 120, out_features = 84)\n",
    "    self.fc3 = nn.Linear(84, 2)\n",
    "\n",
    "  def forward(self, x):\n",
    "    x = self.pool(F.relu(self.conv1(x)))\n",
    "    x = self.pool(F.relu(self.conv2(x)))\n",
    "    x = torch.flatten(x,1)   # Flattening all dimensions except batch\n",
    "    x = F.relu(self.fc1(x))\n",
    "    x = F.relu(self.fc2(x))\n",
    "    x = self.fc3(x)\n",
    "    return x\n",
    "\n",
    "net = Net()\n"
   ]
  },
  {
   "cell_type": "code",
   "execution_count": 12,
   "id": "6e6273f3",
   "metadata": {},
   "outputs": [],
   "source": [
    "import torch.optim as optim\n",
    "\n",
    "criterion = nn.CrossEntropyLoss()\n",
    "optimizer = optim.SGD(net.parameters(), lr=0.001, momentum=0.9)"
   ]
  },
  {
   "cell_type": "code",
   "execution_count": 13,
   "id": "aad16546",
   "metadata": {},
   "outputs": [
    {
     "name": "stdout",
     "output_type": "stream",
     "text": [
      "[1,   100] loss: 0.695\n",
      "[1,   200] loss: 0.686\n",
      "[1,   300] loss: 0.673\n",
      "[1,   400] loss: 0.646\n",
      "[1,   500] loss: 0.527\n",
      "[1,   600] loss: 0.240\n",
      "[1,   700] loss: 0.108\n",
      "[1,   800] loss: 0.069\n",
      "[1,   900] loss: 0.044\n",
      "[1,  1000] loss: 0.021\n",
      "[1,  1100] loss: 0.014\n",
      "[1,  1200] loss: 0.011\n",
      "Finished Training\n"
     ]
    }
   ],
   "source": [
    "for epoch in range(1):\n",
    "  running_loss = 0.0\n",
    "  for i, data in enumerate(train_loader, start = 0):\n",
    "    inputs, labels = data\n",
    "    # Zero parameter gradients so previous backpropagations do not affect current backpropagation\n",
    "    optimizer.zero_grad()\n",
    "\n",
    "    # Forward + backward + optimise\n",
    "    outputs = net(inputs)\n",
    "    loss = criterion(outputs, labels)\n",
    "    loss.backward()\n",
    "    optimizer.step()\n",
    "\n",
    "    # Print statistics\n",
    "    running_loss += loss.item()\n",
    "    if i % 100 == 99:    # print every 2000 mini-batches\n",
    "        print(f'[{epoch + 1}, {i + 1:5d}] loss: {running_loss / 100:.3f}')\n",
    "        running_loss = 0.0\n",
    "\n",
    "print('Finished Training')"
   ]
  },
  {
   "cell_type": "code",
   "execution_count": 98,
   "id": "f6d400e1",
   "metadata": {},
   "outputs": [],
   "source": [
    "PATH = 'saved_model.pth'\n",
    "torch.save(net.state_dict(), PATH)"
   ]
  },
  {
   "cell_type": "code",
   "execution_count": 96,
   "id": "56c49e00",
   "metadata": {},
   "outputs": [
    {
     "data": {
      "image/png": "[encoded data removed]",
      "text/plain": [
       "<Figure size 432x288 with 1 Axes>"
      ]
     },
     "metadata": {
      "needs_background": "light"
     },
     "output_type": "display_data"
    },
    {
     "name": "stdout",
     "output_type": "stream",
     "text": [
      "GroundTruth:  thumbsdown thumbsup thumbsdown thumbsdown\n"
     ]
    }
   ],
   "source": [
    "dataiter = iter(test_loader)\n",
    "images, labels = dataiter.next()\n",
    "imshow(torchvision.utils.make_grid(images))\n",
    "print('GroundTruth: ', ' '.join(f'{classes[labels[j]]:5s}' for j in range(4)))"
   ]
  },
  {
   "cell_type": "code",
   "execution_count": 99,
   "id": "5d3a919f",
   "metadata": {},
   "outputs": [
    {
     "name": "stdout",
     "output_type": "stream",
     "text": [
      "tensor([[0.0687, 0.0336],\n",
      "        [0.0601, 0.0506],\n",
      "        [0.0611, 0.0532],\n",
      "        [0.0673, 0.0467]], grad_fn=<AddmmBackward0>)\n",
      "tensor([0, 0, 0, 0])\n",
      "Predicted:  thumbsup thumbsup thumbsup thumbsup\n"
     ]
    }
   ],
   "source": [
    "savedNet = Net()\n",
    "savedNet.load_state_dict(torch.load(PATH))\n",
    "outputs = savedNet(images)\n",
    "\n",
    "_,predicted = torch.max(outputs,1)\n",
    "print(outputs)\n",
    "print(predicted)\n",
    "print('Predicted: ', ' '.join(f'{classes[predicted[j]]:5s}'\n",
    "                              for j in range(4)))"
   ]
  },
  {
   "cell_type": "code",
   "execution_count": 100,
   "id": "60137ec9",
   "metadata": {},
   "outputs": [
    {
     "name": "stdout",
     "output_type": "stream",
     "text": [
      "Accuracy for class: thumbsup is 80.0 %\n",
      "Accuracy for class: thumbsdown is 1.2 %\n"
     ]
    }
   ],
   "source": [
    "# prepare to count predictions for each class\n",
    "correct_pred = {classname: 0 for classname in classes}\n",
    "total_pred = {classname: 0 for classname in classes}\n",
    "\n",
    "# again no gradients needed\n",
    "with torch.no_grad():\n",
    "    for data in test_loader:\n",
    "        images, labels = data\n",
    "        outputs = net(images)\n",
    "        _, predictions = torch.max(outputs, 1)\n",
    "        # collect the correct predictions for each class\n",
    "        for label, prediction in zip(labels, predictions):\n",
    "            if label == prediction:\n",
    "                correct_pred[classes[label]] += 1\n",
    "            total_pred[classes[label]] += 1\n",
    "\n",
    "\n",
    "# print accuracy for each class\n",
    "for classname, correct_count in correct_pred.items():\n",
    "    accuracy = 100 * float(correct_count) / total_pred[classname]\n",
    "    print(f'Accuracy for class: {classname:5s} is {accuracy:.1f} %')"
   ]
  },
  {
   "cell_type": "code",
   "execution_count": 14,
   "id": "8e19a902",
   "metadata": {},
   "outputs": [],
   "source": [
    "# Input to the model\n",
    "# x = torch.randn(batch_size, 1, 28, 28, requires_grad=False)\n",
    "x = torch.randn(1, 1, 28, 28, requires_grad=False)\n",
    "torch_out = net(x)\n",
    "\n",
    "# Export the model\n",
    "torch.onnx.export(net,               # model being run\n",
    "                  x,                         # model input (or a tuple for multiple inputs)\n",
    "                  \"pythumbs-v1.2.onnx\",   # where to save the model (can be a file or file-like object)\n",
    "                  export_params=True,        # store the trained parameter weights inside the model file\n",
    "                  opset_version=13,          # the ONNX version to export the model to\n",
    "                  do_constant_folding=True,  # whether to execute constant folding for optimization\n",
    "#                   input_names = ['input'],   # the model's input names\n",
    "#                   output_names = ['thumbsup', 'thumbsdown'], # the model's output names\n",
    "#                   dynamic_axes={'input' : {0 : 'batch_size'},    # variable length axes\n",
    "#                                 'output' : {0 : 'batch_size'}}\n",
    "                 )"
   ]
  }
 ],
 "metadata": {
  "kernelspec": {
   "display_name": "Python 3 (ipykernel)",
   "language": "python",
   "name": "python3"
  },
  "language_info": {
   "codemirror_mode": {
    "name": "ipython",
    "version": 3
   },
   "file_extension": ".py",
   "mimetype": "text/x-python",
   "name": "python",
   "nbconvert_exporter": "python",
   "pygments_lexer": "ipython3",
   "version": "3.9.13"
  }
 },
 "nbformat": 4,
 "nbformat_minor": 5
}
